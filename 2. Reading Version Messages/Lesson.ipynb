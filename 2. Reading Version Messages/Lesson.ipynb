{
 "cells": [
  {
   "cell_type": "code",
   "execution_count": null,
   "metadata": {},
   "outputs": [],
   "source": []
  },
  {
   "cell_type": "markdown",
   "metadata": {},
   "source": [
    "# Reading Version Message Payloads\n",
    "\n",
    "In the last lesson we encountered the Bitcoin protocol's [Version Handshake](https://en.bitcoin.it/wiki/Version_Handshake). We saw how Bitcoin network peers will only converse with us if we first introduce ourselves with a `version` message.\n",
    "\n",
    "But _we cheated_. I gave you a serialized `version` message and didn't tell you how I created it.\n",
    "\n",
    "_We were lazy_: we didn't parse the cryptic `payload` of the `version` message that our peer sent us.\n",
    "\n",
    "_We were rude_! After listening for our peer's `version` message we stopped listening and never received or responded to their `verack` message -- completing the handshake. Our peer was left hanging ...\n",
    "\n",
    "So you see, we have much to fix!\n",
    "\n",
    "### Housekeeping\n",
    "\n",
    "Last time we created a `NetworkEnvelope` class. I'm going to throw that away and use functions and dictionaries instead. Simpler this way!\n",
    "\n",
    "Here's where we are:"
   ]
  },
  {
   "cell_type": "code",
   "execution_count": null,
   "metadata": {},
   "outputs": [],
   "source": [
    "from hashlib import sha256\n",
    "\n",
    "NETWORK_MAGIC = b'\\xf9\\xbe\\xb4\\xd9'\n",
    "\n",
    "def double_sha256(s):\n",
    "    return sha256(sha256(s).digest()).digest()\n",
    "\n",
    "def read_message(stream):\n",
    "    msg = {}\n",
    "    magic = stream.read(4)\n",
    "    if magic != NETWORK_MAGIC:\n",
    "        raise Exception(f'Magic is wrong: {magic}')\n",
    "    msg['command'] = stream.read(12).strip(b'\\x00')\n",
    "    payload_length = int.from_bytes(stream.read(4), 'little')\n",
    "    checksum = stream.read(4)\n",
    "    msg['payload'] = stream.read(payload_length)\n",
    "    calculated_checksum = double_sha256(msg['payload'])[:4]\n",
    "    if calculated_checksum != checksum:\n",
    "        raise Exception('Checksum does not match')\n",
    "    return msg"
   ]
  },
  {
   "cell_type": "code",
   "execution_count": null,
   "metadata": {},
   "outputs": [],
   "source": [
    "import socket\n",
    "from pprint import pprint\n",
    "\n",
    "# magic \"version\" bytestring\n",
    "VERSION = b'\\xf9\\xbe\\xb4\\xd9version\\x00\\x00\\x00\\x00\\x00j\\x00\\x00\\x00\\x9b\"\\x8b\\x9e\\x7f\\x11\\x01\\x00\\x0f\\x04\\x00\\x00\\x00\\x00\\x00\\x00\\x93AU[\\x00\\x00\\x00\\x00\\x0f\\x04\\x00\\x00\\x00\\x00\\x00\\x00\\x00\\x00\\x00\\x00\\x00\\x00\\x00\\x00\\x00\\x00\\x00\\x00\\x00\\x00\\x00\\x00\\x00\\x00\\x0f\\x04\\x00\\x00\\x00\\x00\\x00\\x00\\x00\\x00\\x00\\x00\\x00\\x00\\x00\\x00\\x00\\x00\\x00\\x00\\x00\\x00\\x00\\x00\\x00\\x00rV\\xc5C\\x9b:\\xea\\x89\\x14/some-cool-software/\\x01\\x00\\x00\\x00\\x01'\n",
    "\n",
    "sock = socket.socket()\n",
    "sock.connect((\"35.198.151.21\", 8333))\n",
    "stream = sock.makefile('rb')\n",
    "\n",
    "# initiate the \"version handshake\"\n",
    "sock.send(VERSION)\n",
    "\n",
    "# receive their \"version\" response\n",
    "msg = read_message(stream)\n",
    "\n",
    "print(msg)\n"
   ]
  },
  {
   "cell_type": "markdown",
   "metadata": {},
   "source": [
    "\n",
    "The payload of our message is still `bytes`. We need to decode the payload in the same way that we decoded the outer message structure itself. To do this we'll continue to interpret the Bitcoin wiki's protocol documentation field-by-field.\n",
    "\n",
    "\n",
    "# Objective: Interpret the Message Payload\n",
    "\n",
    "Here's how payloads look now:\n",
    "\n",
    "```\n",
    "b'\\x7f\\x11\\x01\\x00\\r\\x04\\x00\\x00\\x00\\x00\\x00\\x0028j\\\\\\x00\\x00\\x00\\x00\\x00\\x00\\x00\\x00\\x00\\x00\\x00\\x00\\x00\\x00\\x00\\x00\\x00\\x00\\x00\\x00\\x00\\x00\\xff\\xffFqPG\\xa8\\xc6\\r\\x04\\x00\\x00\\x00\\x00\\x00\\x00\\x00\\x00\\x00\\x00\\x00\\x00\\x00\\x00\\x00\\x00\\x00\\x00\\x00\\x00\\x00\\x00\\x00\\x00!\\xf8\\xe8\\xff\\xceL+s\\x10/Satoshi:0.16.3/U\\x99\\x08\\x00\\x01'\n",
    "```\n",
    "\n",
    "In this lesson we'll learn to interpret these bytes as a dictionary like this:\n",
    "\n",
    "```\n",
    "{'nonce': 8298811190300702753,\n",
    " 'receiver_address': {'ip': '::ffff:70.113.80.71',\n",
    "                      'port': 43206,\n",
    "                      'services': 0},\n",
    " 'relay': 1,\n",
    " 'sender_address': {'ip': '0.0.0.0', 'port': 0, 'services': 1037},\n",
    " 'services': 1037,\n",
    " 'start_height': 563541,\n",
    " 'timestamp': 1550465074,\n",
    " 'user_agent': b'/Satoshi:0.16.3/',\n",
    " 'version': 70015}\n",
    "```"
   ]
  },
  {
   "cell_type": "markdown",
   "metadata": {},
   "source": [
    "### The Payload\n",
    "\n",
    "To do this we figure out the fields contained in this payload, together with their respective lengths, types and meanings.\n",
    "\n",
    "[This chart](https://en.bitcoin.it/wiki/Protocol_documentation#version) from the protocol documentation will act as our blueprint:\n",
    "\n",
    "![image](../images/version-message.png)\n",
    "\n",
    "### Old Types\n",
    "\n",
    "Here we encounter some \"types\" we are now familiar with from the first lesson -- `int32_t` / `uint64_t` / `int64_t` -- which are different types in a \"low-level\" language like C++, but are all equivalent to the `int` type in Python just like the `length` field from lesson 1.\n",
    "\n",
    "### New Types\n",
    "\n",
    "But we also encounter some new types: `net_addr`, `varstr`, and `bool`. \n",
    "\n",
    "Even worse, if we click on the [`varstr` link](https://en.bitcoin.it/wiki/Protocol_documentation#Variable_length_string) we see that it contains _another_ additional type: `varint`.\n",
    "\n",
    "Worse still, the [`net_addr` link](https://en.bitcoin.it/wiki/Protocol_documentation#Network_address) contains `time`, `services`, `ip` and `port` fields nominally of types `uint32`, `uint64_t`, `char[16]`, and `uint16_t` but each has some special meaning: the `time` integer is a Unix timestamp, the `services` integer is a \"bitfield\" (whatever that is!), and the IP address can be either IPv4 or IPv6 and our code must be able to tell the difference!\n",
    "\n",
    "And remember how I mentioned that Satoshi usually, but not always, encoded bytes in \"little endian\" byte order (least significant digits is on the left)? Well, the `port` attribute of `net_addr` is encoded \"big endian\", where the *most* significant digit is on the left. Yes, the exact opposite of everything else!!!\n",
    "\n",
    "Hunker down for a looooooong lesson!\n",
    "\n",
    "### Progress\n",
    "\n",
    "Here's a little blueprint of what we'll cover this lesson. At times we'll get deep into the weeds, and I hope this chart will help you keep track of the plot:\n",
    "\n",
    "- [ ] `read_version_payload` v1: convert payload to dictionary with `bytes` values\n",
    "- [ ] Interpret Integer fields\n",
    "    - [ ] Convert bytes to integers\n",
    "    - [ ] Interpret `version`\n",
    "    - [ ] Interpret `timestamp`\n",
    "    - [ ] Interpret `services`\n",
    "- [ ] Interpret boolean `relay`\n",
    "- [ ] Interpret variable-length `user_agent`\n",
    "    - [ ] Implement `read_varint`\n",
    "    - [ ] Implement `read_varstr`\n",
    "- [ ] Interpret sender and receiver `net_addr` values\n",
    "    - [ ] Interpret IP addresses\n",
    "    - [ ] Interpret big-endian port numbers\n",
    "- [ ] `read_version_payload` v2: convert payload to dictionary interpreted values where appropriate"
   ]
  },
  {
   "cell_type": "markdown",
   "metadata": {},
   "source": [
    "### Exercise: `read_version_payload`\n",
    "\n",
    "Write a function `read_version_payload(stream)` takes a stream of bytes composed of the payload of a version message and turns it into a dictionary. The first four bytes represent the `version`, next eight represent `services`, and so on as described in the table above.\n",
    "\n",
    "Your function should return a dictionary with keys equal to the version message attributes and values equal to the uninterpreted bytes corresponding to that key:\n",
    "\n",
    "```\n",
    "{\n",
    "    'version': <4 raw version bytes>,\n",
    "    'services': <8 raw services bytes>,\n",
    "    'timestamp': <8 raw timestamp bytes>,\n",
    "    'receiver_address': <26 raw network address bytes>,\n",
    "    'sender_address': <26 raw network address bytes>,\n",
    "    'nonce': <8 raw nonce bytes>,\n",
    "    'user_agent': <variable raw user agent bytes>,\n",
    "    'start_height': <4 raw start height bytes>,\n",
    "    'relay': <1 raw relay byte>,\n",
    "}\n",
    "```\n",
    "\n",
    "Throughout the lesson we will slowly add functions to interpret the raw bytes left uninterpreted in this function.\n",
    "\n",
    "This exercise is simply asking you to read the correct number of bytes for every field and store these bytes under the keys used by the dictionary snipped above."
   ]
  },
  {
   "cell_type": "code",
   "execution_count": null,
   "metadata": {},
   "outputs": [],
   "source": [
    "from lib import read_varstr as magic_read_varstr\n",
    "\n",
    "VERSION_PAYLOAD = b'\\x7f\\x11\\x01\\x00\\r\\x04\\x00\\x00\\x00\\x00\\x00\\x0028j\\\\\\x00\\x00\\x00\\x00\\x00\\x00\\x00\\x00\\x00\\x00\\x00\\x00\\x00\\x00\\x00\\x00\\x00\\x00\\x00\\x00\\x00\\x00\\xff\\xffFqPG\\xa8\\xc6\\r\\x04\\x00\\x00\\x00\\x00\\x00\\x00\\x00\\x00\\x00\\x00\\x00\\x00\\x00\\x00\\x00\\x00\\x00\\x00\\x00\\x00\\x00\\x00\\x00\\x00!\\xf8\\xe8\\xff\\xceL+s\\x10/Satoshi:0.16.3/U\\x99\\x08\\x00\\x01'\n",
    "\n",
    "def read_version_payload(stream):\n",
    "    # We will build up this dictionary as we go\n",
    "    r = {}\n",
    "    \n",
    "    # First read the 4 byte `version` number and save to the r['version'] key \n",
    "    r['version'] = stream.read(4)\n",
    "    \n",
    "    # Your turn: Follow this pattern to fill in the \n",
    "    # \"timestamp\", \"receiver_address\", \"sender_address\", and \"nonce\" fields\n",
    "    \n",
    "    # Giving you this one. You will re-implement later ...\n",
    "    r['user_agent'] = magic_read_varstr(stream)\n",
    "    \n",
    "    # Your turn: Fill out the remaining \"start_height\" and \"relay\" attributes\n",
    "    \n",
    "    # Return the dictionary we've assembled\n",
    "    return r"
   ]
  },
  {
   "cell_type": "code",
   "execution_count": null,
   "metadata": {
    "scrolled": true
   },
   "outputs": [],
   "source": [
    "from io import BytesIO\n",
    "from utils import assert_len\n",
    "\n",
    "VERSION_PAYLOAD = b'\\x7f\\x11\\x01\\x00\\r\\x04\\x00\\x00\\x00\\x00\\x00\\x0028j\\\\\\x00\\x00\\x00\\x00\\x00\\x00\\x00\\x00\\x00\\x00\\x00\\x00\\x00\\x00\\x00\\x00\\x00\\x00\\x00\\x00\\x00\\x00\\xff\\xffFqPG\\xa8\\xc6\\r\\x04\\x00\\x00\\x00\\x00\\x00\\x00\\x00\\x00\\x00\\x00\\x00\\x00\\x00\\x00\\x00\\x00\\x00\\x00\\x00\\x00\\x00\\x00\\x00\\x00!\\xf8\\xe8\\xff\\xceL+s\\x10/Satoshi:0.16.3/U\\x99\\x08\\x00\\x01'\n",
    "\n",
    "def test_read_version_payload_initial():\n",
    "    stream = BytesIO(VERSION_PAYLOAD)\n",
    "    payload = read_version_payload(stream)\n",
    "\n",
    "    # Dictionary keys\n",
    "    observed_keys = set(payload.keys())\n",
    "    expected_keys = set(['version', 'services', 'timestamp', 'receiver_address', 'sender_address', \n",
    "                         'nonce', 'user_agent', 'start_height', 'relay'])\n",
    "    missing_keys = expected_keys - observed_keys\n",
    "    extra_keys = observed_keys - expected_keys\n",
    "    \n",
    "    assert not missing_keys, f\"The following keys were missing: {missing_keys}\"\n",
    "    assert not extra_keys, f\"Encountered unexpected key(s): {extra_keys}\"\n",
    "    \n",
    "    # Dictionary values\n",
    "    assert_len(payload, 'version', 4)\n",
    "    assert_len(payload, 'services', 8)\n",
    "    assert_len(payload, 'timestamp', 8)\n",
    "    assert_len(payload, 'receiver_address', 26)\n",
    "    assert_len(payload, 'sender_address', 26)\n",
    "    assert_len(payload, 'nonce', 8)\n",
    "    assert_len(payload, 'start_height', 4)\n",
    "    assert_len(payload, 'relay', 1)\n",
    "    \n",
    "    print(\"Test passed!\")\n",
    "    \n",
    "test_read_version_payload_initial()"
   ]
  },
  {
   "cell_type": "markdown",
   "metadata": {},
   "source": [
    "[Link to the answers for this lesson](./Answers.ipynb)\n",
    "\n",
    "### Progress\n",
    "\n",
    "The first step is always hardest!\n",
    "\n",
    "- [x] `read_version_payload` v1: convert payload to dictionary with `bytes` values\n",
    "- [ ] Interpret Integer fields\n",
    "    - [ ] Convert bytes to integers\n",
    "    - [ ] Interpret `version`\n",
    "    - [ ] Interpret `timestamp`\n",
    "    - [ ] Interpret `services`\n",
    "- [ ] Interpret boolean `relay`\n",
    "- [ ] Interpret variable-length fields\n",
    "- [ ] Interpret variable-length `user_agent`\n",
    "    - [ ] Implement `read_varint`\n",
    "    - [ ] Implement `read_varstr`\n",
    "- [ ] Interpret sender and receiver `net_addr` values\n",
    "    - [ ] Interpret IP addresses\n",
    "    - [ ] Interpret big-endian port numbers\n",
    "- [ ] `read_version_payload` v2: convert payload to dictionary interpreted values where appropriate"
   ]
  },
  {
   "cell_type": "markdown",
   "metadata": {},
   "source": [
    "# Integer fields\n",
    "\n",
    "In the last lesson we wrote a function `read_length` that could read bytes and interpret them as integers, but it wasn't very flexible: it could only ever read 4 bytes at a time and could only interpret them as little endian byte-order.\n",
    "\n",
    "Let's break out the integer-interpretation into it's own functions depending on whether the bytes are little or big endian: `little_endian_to_int(bytes)` & `big_endian_to_int(bytes)` \n",
    "\n",
    "### Exercise: `little_endian_to_int(bytes)` and `big_endian_to_int(bytes)` "
   ]
  },
  {
   "cell_type": "code",
   "execution_count": null,
   "metadata": {},
   "outputs": [],
   "source": [
    "def little_endian_to_int(b):\n",
    "    raise NotImplementedError()"
   ]
  },
  {
   "cell_type": "code",
   "execution_count": null,
   "metadata": {},
   "outputs": [],
   "source": [
    "def test_little_endian_to_int():\n",
    "    i = 22\n",
    "    bytes = int.to_bytes(22, 10, 'little')\n",
    "    result = little_endian_to_int(bytes)\n",
    "    assert i == result, f'Correct answer: {i}. Your answer: {result}'\n",
    "    print(\"Test passed!\")\n",
    "\n",
    "test_little_endian_to_int()"
   ]
  },
  {
   "cell_type": "code",
   "execution_count": null,
   "metadata": {},
   "outputs": [],
   "source": [
    "def big_endian_to_int(b):\n",
    "    raise NotImplementedError()"
   ]
  },
  {
   "cell_type": "code",
   "execution_count": null,
   "metadata": {},
   "outputs": [],
   "source": [
    "def test_big_endian_to_int():\n",
    "    i = 1_000_000\n",
    "    bytes = int.to_bytes(i, 7, 'big')\n",
    "    result = big_endian_to_int(bytes)\n",
    "    assert i == result, f'Correct answer: {i}. Your answer: {result}'\n",
    "    print(\"Test passed!\")\n",
    "    \n",
    "test_big_endian_to_int()"
   ]
  },
  {
   "cell_type": "markdown",
   "metadata": {},
   "source": [
    "This exercise is a little artificial. You should be able to accomplish each with a single line. `little_endian_to_int(bytes)` isn't all that much simpler than `int.from_bytes(bytes, 'little')`. It really just's binds the `byteorder` parameter to `\"little\"`. But it will hopefully be a little easier to remember and therefore represents a small improvement. At the very least I'm testing that you remember how to do a \"little endian bytes\" -> integer conversion!"
   ]
  },
  {
   "cell_type": "markdown",
   "metadata": {},
   "source": [
    "### Exercise: Update `read_version_payload` to interpret integers using `little_endian_to_int` and `big_endian_to_int`\n",
    "\n",
    "According to the protocol documentation, the following fields are integers: `version`, `services`, `timestamp`, `nonce`, `start_height`.\n",
    "\n",
    "Copy over the body of `read_version_payload` you wrote earlier and update the code that handles the fields above. Don't leave them as uninterpreted bytes. Convert them to integers with correct byte order (You can assume each field is little-endian unless the docs tell you otherwise)."
   ]
  },
  {
   "cell_type": "code",
   "execution_count": null,
   "metadata": {},
   "outputs": [],
   "source": [
    "def read_version_payload(stream):\n",
    "    raise NotImplementedError()"
   ]
  },
  {
   "cell_type": "code",
   "execution_count": null,
   "metadata": {},
   "outputs": [],
   "source": [
    "from utils import check_field\n",
    "\n",
    "def test_read_version_payload_integer_fields():\n",
    "    stream = BytesIO(VERSION_PAYLOAD)\n",
    "    payload = read_version_payload(stream)\n",
    "\n",
    "    check_field(payload, 'version', b'\\x7f\\x11\\x01\\x00', 70015)   \n",
    "    check_field(payload, 'services', b'\\r\\x04\\x00\\x00\\x00\\x00\\x00\\x00', 1037)   \n",
    "    check_field(payload, 'timestamp', b'28j\\\\\\x00\\x00\\x00\\x00', 1550465074)   \n",
    "    check_field(payload, 'nonce', b'!\\xf8\\xe8\\xff\\xceL+s', 8298811190300702753)   \n",
    "    check_field(payload, 'start_height', b'U\\x99\\x08\\x00', 563541)\n",
    "\n",
    "    print('Test passed!')\n",
    "    \n",
    "test_read_version_payload_integer_fields()"
   ]
  },
  {
   "cell_type": "markdown",
   "metadata": {},
   "source": [
    "## What do the integers mean?\n",
    "\n",
    "We can now interpret bytes as integers, but what do the integers themselves mean?\n",
    "\n",
    "`nonce` is pretty easy -- it's just a random number generated with every request. It's used by Bitcoin clients to determine whether they are connecting to themselves. Basically, generate and record a 64-bit random nonce for every version message you send and reject any incoming version messages with a nonce in this list -- it's almost certainly you connecting to yourself accidentally. The chances of it being someone else are one in `256**8 == 18446744073709551616`\n",
    "\n",
    "`start_height` is also straightfoward: it's the block height the sending node claims to be at. If you're doing initial block download and your peer is at height 1, you might reject the connection because they can't help you download blocks (although you might allow it because you could help them).\n",
    "\n",
    "`version` is also straightforward. It's just a number signifying a version of the Bitcoin protocol. Here's an exercise:\n",
    "\n",
    "### Exercise: Given a version message payload (a dictionary of the sort returned by `read_version_payload`), determine whether it's node can send a `pong` message\n",
    "\n",
    "The `ping` and `pong` messages are used by bitcoin to periodically check if a peer is still online.\n",
    "\n",
    "This exercise should give you a taste of the kind of information the version number encodes. [This table](https://bitcoin.org/en/developer-reference#protocol-versions) contains all the information you need!"
   ]
  },
  {
   "cell_type": "code",
   "execution_count": null,
   "metadata": {},
   "outputs": [],
   "source": [
    "def can_send_pong(version_payload):\n",
    "    raise NotImplementedError()"
   ]
  },
  {
   "cell_type": "code",
   "execution_count": null,
   "metadata": {},
   "outputs": [],
   "source": [
    "from utils import replace_bytes\n",
    "\n",
    "def test_can_send_pong():\n",
    "    for version, can_send in [(70015, True), (60001, True), (60000, False), (106, False)]:\n",
    "        index = VERSION_PAYLOAD.index( b'\\x7f\\x11\\x01\\x00')\n",
    "        new_bytes = version.to_bytes(4, 'little')\n",
    "        stream = BytesIO(replace_bytes(VERSION_PAYLOAD, index, new_bytes))\n",
    "        payload = read_version_payload(stream)\n",
    "        assert can_send == can_send_pong(payload),\\\n",
    "            f'Version \"{version}\" {\"can\" if can_send else \"cannot\"} send \"pong\" messages'\n",
    "\n",
    "    print(\"Test passed!\")\n",
    "    \n",
    "test_can_send_pong()"
   ]
  },
  {
   "cell_type": "markdown",
   "metadata": {},
   "source": [
    "Hopefully now you can see how the `version` number can be useful. This number tells us which dialects of the bitcoin protocol our peer is capable of speaking. If they can't send `pong` messages, we shouldn't send them a `ping`!"
   ]
  },
  {
   "cell_type": "markdown",
   "metadata": {},
   "source": [
    "## `timestamp`\n",
    "\n",
    "Next comes the `timestamp` field. This is simply a [\"Unix timestamp\"](https://en.wikipedia.org/wiki/Unix_time). \"Unix time\" is just a running count of the number of seconds elapsed since the start of the year 1970 in the UTC timezone.\n",
    "\n",
    "Here are two ways to compare a given unix timestamp with the current time."
   ]
  },
  {
   "cell_type": "code",
   "execution_count": null,
   "metadata": {},
   "outputs": [],
   "source": [
    "import time\n",
    "\n",
    "unix_time_as_justin_wrote_this_exercise = 1550538302\n",
    "\n",
    "# Simple:\n",
    "\n",
    "unix_now = time.time()\n",
    "elapsed = unix_now - unix_time_as_justin_wrote_this_exercise\n",
    "print(elapsed, \"seconds have elapsed since this exercise was written\")"
   ]
  },
  {
   "cell_type": "code",
   "execution_count": null,
   "metadata": {},
   "outputs": [],
   "source": [
    "# Sophisticated\n",
    "\n",
    "from datetime import datetime, timedelta\n",
    "\n",
    "dt_as_justin_wrote_this_exercise = datetime.fromtimestamp(\n",
    "    unix_time_as_justin_wrote_this_exercise)\n",
    "\n",
    "dt_now = datetime.now()\n",
    "delta = dt_now - dt_as_justin_wrote_this_exercise\n",
    "print(delta.seconds, \"seconds have elapsed since this exercise was written\")\n",
    "print(delta.days, \"days have elapsed since this exercise was written\")"
   ]
  },
  {
   "cell_type": "code",
   "execution_count": null,
   "metadata": {},
   "outputs": [],
   "source": [
    "# \"datetime.datetime\" & \"datetime.timedelta\" objects make aritmetic\n",
    "# using timestamps easier. You don't need to count seconds yourself!\n",
    "\n",
    "two_days_ago = datetime.now() - timedelta(days=2)\n",
    "\n",
    "print(\"Two days ago\", two_days_ago)"
   ]
  },
  {
   "cell_type": "markdown",
   "metadata": {},
   "source": [
    "### Exercise: Given a version message payload (dictionary of the sort returned by `read_version_payload`), tell me if it is from the last hour or not\n",
    "\n",
    "You'd probably never want to do something like this with a version message -- but blocks also have timestamps and the bitcoin protocol is supposed to reject blocks with timestamps that are too far in the future or past.\n",
    "\n",
    "Use either `time.time()` to calculate the current Unix time and count the numbers of seconds in an hours, or convert the unix timestamp using `datetime.datetime.fromtimestamp()`, calculate the current time using `datetime.now()`, and let `datetime.timedelta(days=?, seconds=?, microseconds=?, milliseconds=?, minutes=?, hours=?, weeks=?)` do the counting for you."
   ]
  },
  {
   "cell_type": "code",
   "execution_count": null,
   "metadata": {},
   "outputs": [],
   "source": [
    "def is_less_than_one_hour_old(version_payload_dict):\n",
    "    raise NotImplementedError()"
   ]
  },
  {
   "cell_type": "code",
   "execution_count": null,
   "metadata": {},
   "outputs": [],
   "source": [
    "def test_is_less_than_one_hour_old():\n",
    "    # FIXME: would be much more intelligent to have a function that could just build this dictionary for me .,..\n",
    "    \n",
    "    five_min_ago = int(time.time() - 60*5)\n",
    "    raw_version_payload = replace_bytes(VERSION_PAYLOAD, 12, five_min_ago.to_bytes(8, 'little'))\n",
    "    version_payload_dict = read_version_payload(BytesIO(raw_version_payload))\n",
    "    assert is_less_than_one_hour_old(version_payload_dict)\n",
    "\n",
    "    five_hours_ago = int(time.time() - 60*60*5)\n",
    "    raw_version_payload = replace_bytes(VERSION_PAYLOAD, 12, five_hours_ago.to_bytes(8, 'little'))\n",
    "    version_payload_dict = read_version_payload(BytesIO(raw_version_payload))\n",
    "    assert not is_less_than_one_hour_old(version_payload_dict)\n",
    "\n",
    "    print(\"Test passed!\")\n",
    "\n",
    "test_is_less_than_one_hour_old()"
   ]
  },
  {
   "cell_type": "markdown",
   "metadata": {},
   "source": [
    "# \"Services\" Field\n",
    "\n",
    "[The version section of the protocol docs](https://en.bitcoin.it/wiki/Protocol_documentation#version) provides us with the following guide for interpreting the `services` field of the `version` payload:\n",
    "\n",
    "![image](../images/services.png)\n",
    "\n",
    "It is a \"bitfield\". [Check out the wikipedia entry](https://en.wikipedia.org/wiki/Bit_field) for a more detailed explanation that I can provide.\n",
    "\n",
    "A bitfield is an integer. Every bit of the base-2 representation (e.g. \"101\" is base-2 representation of 5) holds some pre-defined meaning. This particular bitfield is 8 bytes / 64 bits (remember, a byte is just a collection of 8 bits so 8 bytes is 8 bytes * 8 bits/byte = 64 bits).\n",
    "\n",
    "From the table above we can see that the least significant digit in the binary representation (decimal value `2^0=1`) represents `NODE_NETWORK`. If this bit is on the node can serve full blocks, if it's off it can only serve block headers.\n",
    "\n",
    "The second least-significant digit (decimal value `2^1=2`) represents`NODE_GETUTXO`, from a _failed_ BIP by Mike Hearn proposing a new `getutxos` network message that would have allowed SPV clients to query full nodes regarding specific UTXOs of interest to them. Currently, the [only nodes advertising this service are running very old versions of Bitcoin XT](https://bitnodes.earn.com/nodes/?q=node_getutxo). This is kind of interesting -- these specific nodes support extra network messages that current Bitcoin core clients do not!\n",
    "\n",
    "The third least-significant digit (decimal value `2^2=4`) represents `NODE_BLOOM`. [BIP 37](https://github.com/bitcoin/bips/blob/master/bip-0037.mediawiki) created a system for SPV clients to be able to download specific transactions (those which effect their UTXOs) without having to download the whole blocks (which are unnecessary b/c SPV nodes don't validate the blockchain). This system uses [\"Bloom filters\"](https://en.wikipedia.org/wiki/Bloom_filter). The subsequent [BIP 111](https://github.com/bitcoin/bips/blob/master/bip-0111.mediawiki) defined a `services` bit to advertise this service.\n",
    "\n",
    "The fourth least-significant digit (decimal value `2^3=8`) represents `NODE_WITNESS`, or whether the emitting node can serve transactions and blocks containing Segwit \"witness data\". This is described in [BIP 144](https://github.com/bitcoin/bips/blob/master/bip-0144.mediawiki).\n",
    "\n",
    "The eleventh least-significant digit (decimal value `2^10=1024`) represents `NODE_NETWORK_LIMITED`. This bit has the same meaning as `NODE_NETWORK`, except it only applies to the last 144 blocks. In a nutshell, this identifies a \"pruned full node\" which does validate blocks but doesn't maintain a historical copy of the blockchain.\n",
    "\n",
    "[Here are these definitions in the Bitcoin Core source code](https://github.com/bitcoin/bitcoin/blob/38429c4b622887f2c1db15a7826215477ca6868c/src/protocol.h#L247) BTW\n",
    "\n",
    "The rest of the bits (decimal values `2*n` where n in {4, 5, 6, 7, 8, 9, 11, 12, ..., 63} have no meaning, yet.\n",
    "\n",
    "So, in order to interpret this field we need to look up the nth bit in the table above and see if it means anything.\n",
    "\n",
    "Let's write a function that can turn one of these `services` integers into a dictionary that would allow us to look up whether any give service is on or off:\n",
    "\n",
    "```\n",
    "{\n",
    "    'NODE_NETWORK': True,\n",
    "    'NODE_GETUTXO': False,\n",
    "    'NODE_BLOOM': True,\n",
    "    'NODE_WITNESS': False,\n",
    "    'NODE_NETWORK_LIMITED': True,\n",
    "}\n",
    "```\n",
    "\n",
    "This would be pretty easy if we had a `check_bit(bitfield, index)` function that could tell us whether the `n`-th bit is on-or-off.\n",
    "\n",
    "### Exercise: `check_bit(bitfield, index)`\n",
    "\n",
    "Return a boolean value indicating whether the `index`-th bit is on-or-off. This is a tricky one ...."
   ]
  },
  {
   "cell_type": "code",
   "execution_count": null,
   "metadata": {},
   "outputs": [],
   "source": [
    "def check_bit(bitfield, index):\n",
    "    raise NotImplementedError()"
   ]
  },
  {
   "cell_type": "code",
   "execution_count": null,
   "metadata": {},
   "outputs": [],
   "source": [
    "def test_check_bit():\n",
    "    n =  2** 0 + 2**2 + 2**4\n",
    "    assert check_bit(n, 0) is True\n",
    "    assert check_bit(n, 1) is False\n",
    "    assert check_bit(n, 2) is True\n",
    "    assert check_bit(n, 3) is False\n",
    "    assert check_bit(n, 4) is True\n",
    "    print('Test passed!')\n",
    "    \n",
    "test_check_bit()"
   ]
  },
  {
   "cell_type": "markdown",
   "metadata": {},
   "source": [
    "A graphical representation of this testcase is kind of interesting:"
   ]
  },
  {
   "cell_type": "code",
   "execution_count": null,
   "metadata": {},
   "outputs": [],
   "source": [
    "n =  2** 0 + 2**2 + 2**4\n",
    "\n",
    "for i in range(5):\n",
    "    print(f\"The {i} bit of {bin(n)} is {'on' if check_bit(n, i) else 'off'}\")"
   ]
  },
  {
   "cell_type": "markdown",
   "metadata": {},
   "source": [
    "### Exercise #7:  `services_int_to_dict`\n",
    "\n",
    "Write a function `services_int_to_dict` which can produces the following dictionary, for example, when called with argument `1029`\n",
    "\n",
    "```\n",
    "{\n",
    "    'NODE_NETWORK': True,\n",
    "    'NODE_GETUTXO': False,\n",
    "    'NODE_BLOOM': True,\n",
    "    'NODE_WITNESS': False,\n",
    "    'NODE_NETWORK_LIMITED': True,\n",
    "}\n",
    "```\n",
    "\n",
    "Hint: use `check_bit`"
   ]
  },
  {
   "cell_type": "code",
   "execution_count": null,
   "metadata": {},
   "outputs": [],
   "source": [
    "def services_int_to_dict(services_int):\n",
    "    raise NotImplementedError()"
   ]
  },
  {
   "cell_type": "code",
   "execution_count": null,
   "metadata": {},
   "outputs": [],
   "source": [
    "def test_services_int_to_dict():\n",
    "    services = 1 + 2 + 4 + 1024\n",
    "    answer = {\n",
    "        'NODE_NETWORK': True,\n",
    "        'NODE_GETUTXO': True,\n",
    "        'NODE_BLOOM': True,\n",
    "        'NODE_WITNESS': False,\n",
    "        'NODE_NETWORK_LIMITED': True,\n",
    "    }\n",
    "    assert services_int_to_dict(services) == answer\n",
    "    print(\"Tests passed!\")\n",
    "\n",
    "test_services_int_to_dict()"
   ]
  },
  {
   "cell_type": "markdown",
   "metadata": {},
   "source": [
    "To give you a better idea what's going on here, check out these `read_services` outputs for some possible inputs:"
   ]
  },
  {
   "cell_type": "code",
   "execution_count": null,
   "metadata": {},
   "outputs": [],
   "source": [
    "from pprint import pprint\n",
    "\n",
    "bitfields = [\n",
    "    1,\n",
    "    8,\n",
    "    1 + 8,\n",
    "    1024,\n",
    "    8 + 1024,\n",
    "    1 + 2 + 4 + 8 + 1024,\n",
    "    2**5 + 2**9 + 2**25,\n",
    "]\n",
    "\n",
    "for bitfield in bitfields:\n",
    "    pprint(f\"(n={bitfield})\")\n",
    "    pprint(services_int_to_dict(bitfield))\n",
    "    print()"
   ]
  },
  {
   "cell_type": "markdown",
   "metadata": {},
   "source": [
    "### Exercise #8: Complete these function definitions to hammer home you understanding of this strange `services` \"bitfield\""
   ]
  },
  {
   "cell_type": "code",
   "execution_count": null,
   "metadata": {},
   "outputs": [],
   "source": [
    "def offers_node_network_service(services_bitfield):\n",
    "    # given integer services_bitfield, \n",
    "    # return whether the NODE_NETWORK bit is on\n",
    "    raise NotImplementedError()"
   ]
  },
  {
   "cell_type": "code",
   "execution_count": null,
   "metadata": {},
   "outputs": [],
   "source": [
    "def test_offers_node_network_service():\n",
    "    assert offers_node_network_service(1) is True\n",
    "    assert offers_node_network_service(1 + 8) is True\n",
    "    assert offers_node_network_service(4) is False\n",
    "    print('Test passed!')\n",
    "\n",
    "test_offers_node_network_service()"
   ]
  },
  {
   "cell_type": "code",
   "execution_count": null,
   "metadata": {},
   "outputs": [],
   "source": [
    "def offers_node_bloom_and_node_witness_services(services_bitfield):\n",
    "    # given integer services_bitfield, return whether the \n",
    "    # NODE_BLOOM and NODE_WITNESS bits are on\n",
    "    raise NotImplementedError()"
   ]
  },
  {
   "cell_type": "code",
   "execution_count": null,
   "metadata": {},
   "outputs": [],
   "source": [
    "def test_offers_node_bloom_and_node_witness_services():\n",
    "    assert offers_node_bloom_and_node_witness_services(1) is False\n",
    "    assert offers_node_bloom_and_node_witness_services(1 + 8) is False\n",
    "    assert offers_node_bloom_and_node_witness_services(4 + 8) is True\n",
    "    print('Test passed!')\n",
    "    \n",
    "test_offers_node_bloom_and_node_witness_services()"
   ]
  },
  {
   "cell_type": "markdown",
   "metadata": {},
   "source": [
    "As a parting note, here's a look at some nodes that define services not mentioned in the wiki:\n",
    "\n",
    "![image](../images/other-services.png)"
   ]
  },
  {
   "cell_type": "markdown",
   "metadata": {},
   "source": [
    "### Progress report:\n",
    "\n",
    "- [x] `read_version_payload` v1: convert payload to dictionary with `bytes` values\n",
    "- [x] Interpret Integer fields\n",
    "    - [x] Convert bytes to integers\n",
    "    - [x] Interpret `version`\n",
    "    - [x] Interpret `timestamp`\n",
    "    - [x] Interpret `services`\n",
    "- [ ] Interpret boolean `relay`\n",
    "- [ ] Interpret variable-length `user_agent`\n",
    "    - [ ] Implement `read_varint`\n",
    "    - [ ] Implement `read_varstr`\n",
    "- [ ] Interpret sender and receiver `net_addr` values\n",
    "    - [ ] Interpret IP addresses\n",
    "    - [ ] Interpret big-endian port numbers\n",
    "- [ ] `read_version_payload` v2: convert payload to dictionary interpreted values where appropriate"
   ]
  },
  {
   "cell_type": "markdown",
   "metadata": {},
   "source": [
    "# Boolean Values\n",
    "\n",
    "We could have treated `relay` like an `int` given how in Python `True` / `False` values are equivalent to `1` / `0`:"
   ]
  },
  {
   "cell_type": "code",
   "execution_count": null,
   "metadata": {},
   "outputs": [],
   "source": [
    "print(\"True is 1: \", True == 1)\n",
    "print(\"False is 0: \", False == 0)"
   ]
  },
  {
   "cell_type": "markdown",
   "metadata": {},
   "source": [
    "But Python `bool` values will make the data in our programs more readable than just using `1` and `0` so let's write a `bytes_to_bool` function which will handle this for us:"
   ]
  },
  {
   "cell_type": "markdown",
   "metadata": {},
   "source": [
    "### Exercise: `bytes_to_bool(bytes)`\n",
    "\n",
    "Write a function that will interpret bytes as a boolean "
   ]
  },
  {
   "cell_type": "code",
   "execution_count": null,
   "metadata": {},
   "outputs": [],
   "source": [
    "def bytes_to_bool(bytes):\n",
    "    raise NotImplementedError()"
   ]
  },
  {
   "cell_type": "code",
   "execution_count": null,
   "metadata": {},
   "outputs": [],
   "source": [
    "def test_bytes_to_bool():\n",
    "    assert bytes_to_bool(b'\\x00') is False,\\\n",
    "        f'bytes_to_bool(b\"\\x00\") should return False'\n",
    "    assert bytes_to_bool(b'\\x01') is True,\\\n",
    "        f'bytes_to_bool(b\"\\x01\") should return True'\n",
    "    print('Tests passed!')\n",
    "    \n",
    "test_bytes_to_bool()"
   ]
  },
  {
   "cell_type": "markdown",
   "metadata": {},
   "source": [
    "Question: must you be concered of the byteorder with this field?\n",
    "\n",
    "You actually don't need to be concerned. Byte-order only applies if you have multiple bytes."
   ]
  },
  {
   "cell_type": "code",
   "execution_count": null,
   "metadata": {},
   "outputs": [],
   "source": [
    "one = b'\\x01'\n",
    "little_endian_to_int(one) == big_endian_to_int(one)"
   ]
  },
  {
   "cell_type": "markdown",
   "metadata": {},
   "source": [
    "### Exercise: Use `bytes_to_bool` to interpret the `relay` bytes in `read_version_payload`"
   ]
  },
  {
   "cell_type": "code",
   "execution_count": null,
   "metadata": {},
   "outputs": [],
   "source": [
    "def read_version_payload(stream):\n",
    "    raise NotImplementedError()"
   ]
  },
  {
   "cell_type": "code",
   "execution_count": null,
   "metadata": {},
   "outputs": [],
   "source": [
    "def test_read_version_payload_boolean_fields():\n",
    "    stream = BytesIO(VERSION_PAYLOAD)\n",
    "    payload = read_version_payload(stream)\n",
    "    assert payload['relay'] is True\n",
    "    \n",
    "    stream = BytesIO(VERSION_PAYLOAD[:-1] + b'\\x00')\n",
    "    payload = read_version_payload(stream)\n",
    "    assert payload['relay'] is False\n",
    "    \n",
    "    print('Test passed!')\n",
    "    \n",
    "test_read_version_payload_boolean_fields()"
   ]
  },
  {
   "cell_type": "markdown",
   "metadata": {},
   "source": [
    "# \"Variable Length\" fields\n",
    "\n",
    "Next comes `var_str`, the type of the `user_agent` field, which is basically an advertisement of the Bitcoin software implementation that the node is using. You can see a listing of popular values [here](https://bitnodes.earn.com/nodes/).\n",
    "\n",
    "[\"Variable length strings\"](https://en.bitcoin.it/wiki/Protocol_documentation#Variable_length_string) are used for string fields of unpredictible length. This technique strives to use only the space it needs. It does so by prepending a \"variable length integer\" in front of the string value being transmitted, which tells the receiver how many bytes they should read in order to read the encoded string value. This gives us the flexibility to send a string with lengths 1 to 18446744073709551615. This is kind of similar to how the payload bytes are handled in our `read_message` function -- first we read `length` and then we read `length`-many bytes to get our raw payload. Same idea here, but now the length of the string isn't an integer, but a \"variable length integer\".\n",
    "\n",
    "How does this `varint` work?\n",
    "\n",
    "The first byte of a `varint` is a marker which says how many bytes come after it:\n",
    "* `0xFF`: 8 byte integer follows\n",
    "* `0xFE`: 4 byte integer follows\n",
    "* `0xFD`: 2 byte integer follows\n",
    "* < `0xFD`: 0 bytes follow. Interpret first byte as a 1 byte integer.\n",
    "\n",
    "[Here's another brief tutorial on the `varint` structure](http://learnmeabitcoin.com/glossary/varint) if you thirst for more!\n",
    "\n",
    "### Exercise:  Implement `read_varint`, since `read_varstr` will depend on it and the version message's `user_agent` requires `read_varstr`\n",
    "\n",
    "Since this is a somewhat complicated function, I've outlined it for you. Replace the `\"FIXME\"`s:"
   ]
  },
  {
   "cell_type": "code",
   "execution_count": null,
   "metadata": {},
   "outputs": [],
   "source": [
    "def read_varint(stream):\n",
    "    i = little_endian_to_int(stream.read(1))\n",
    "    if i == 0xff:\n",
    "        return little_endian_to_int(stream.read(1))\n",
    "    elif i == 0xfe:\n",
    "        return \"FIXME\"\n",
    "    elif \"FIXME\":\n",
    "        return \"FIXME\"\n",
    "    else:\n",
    "        \"FIXME\""
   ]
  },
  {
   "cell_type": "code",
   "execution_count": null,
   "metadata": {},
   "outputs": [],
   "source": [
    "def test_read_varint():\n",
    "    # FIXME: Ungodly amount of test code ...\n",
    "\n",
    "    eight_byte_int = 2 ** (8 * 8) - 1\n",
    "    four_byte_int = 2 ** (8 * 4) - 1\n",
    "    two_byte_int = 2 ** (8 * 2) - 1\n",
    "    one_byte_int = 7\n",
    "\n",
    "    eight_byte_int_bytes = eight_byte_int.to_bytes(8, 'little')\n",
    "    four_byte_int_bytes = four_byte_int.to_bytes(4, 'little')\n",
    "    two_byte_int_bytes = two_byte_int.to_bytes(2, 'little')\n",
    "    one_byte_int_bytes = one_byte_int.to_bytes(1, 'little')\n",
    "\n",
    "    eight_byte_prefix = (0xff).to_bytes(1, 'little')\n",
    "    four_byte_prefix = (0xfe).to_bytes(1, 'little')\n",
    "    two_byte_prefix = (0xfd).to_bytes(1, 'little')\n",
    "\n",
    "    eight_byte_var_int =  eight_byte_prefix + eight_byte_int_bytes\n",
    "    four_byte_var_int = four_byte_prefix + four_byte_int_bytes\n",
    "    two_byte_var_int = two_byte_prefix + two_byte_int_bytes\n",
    "    one_byte_var_int = one_byte_int_bytes\n",
    "\n",
    "    enumerated = (\n",
    "        (eight_byte_int, eight_byte_var_int),\n",
    "        (four_byte_int, four_byte_var_int),\n",
    "        (two_byte_int, two_byte_var_int),\n",
    "        (one_byte_int, one_byte_var_int),\n",
    "    )\n",
    "    for correct_int, var_int in enumerated:\n",
    "        stream = BytesIO(var_int)\n",
    "        calculated_int = read_varint(stream)\n",
    "        assert correct_int == calculated_int, (correct_int, calculated_int)\n",
    "        \n",
    "    print('Test passed!')\n",
    "\n",
    "test_read_varint()"
   ]
  },
  {
   "cell_type": "markdown",
   "metadata": {},
   "source": [
    "Now that we have that out of the way:\n",
    "\n",
    "### Exercise: Implement `read_varstr`\n",
    "\n",
    "Read a varint, and then read that many bytes:"
   ]
  },
  {
   "cell_type": "code",
   "execution_count": null,
   "metadata": {},
   "outputs": [],
   "source": [
    "def read_varstr(stream):\n",
    "    raise NotImplementedError()"
   ]
  },
  {
   "cell_type": "code",
   "execution_count": null,
   "metadata": {},
   "outputs": [],
   "source": [
    "def test_read_varstr():\n",
    "    from lib import serialize_varstr\n",
    "\n",
    "    long_str = b\"A purely peer-to-peer version of electronic cash would allow online payments to be sent directly from one party to another without going through a financial institution. Digital signatures provide part of the solution, but the main benefits are lost if a trusted third party is still required to prevent double-spending. We propose a solution to the double-spending problem using a peer-to-peer network.  The network timestamps transactions by hashing them into an ongoing chain of hash-based proof-of-work, forming a record that cannot be changed without redoing the proof-of-work. The longest chain not only serves as proof of the sequence of events witnessed, but proof that it came from the largest pool of CPU power. As long as a majority of CPU power is controlled by nodes that are not cooperating to attack the network, they'll generate the longest chain and outpace attackers. The network itself requires minimal structure. Messages are broadcast on a best effort basis, and nodes can leave and rejoin the network at will, accepting the longest proof-of-work chain as proof of what happened while they were gone.\"\n",
    "    long_var_str = serialize_varstr(long_str)\n",
    "\n",
    "    short_str = b\"!\"\n",
    "    short_var_str = serialize_varstr(short_str)\n",
    "\n",
    "    enumerated = (\n",
    "        (short_str, short_var_str),\n",
    "        (long_str, long_var_str),\n",
    "    )\n",
    "    for correct_byte_str, var_str in enumerated:\n",
    "        stream = BytesIO(var_str)\n",
    "        calculated_byte_str = read_varstr(stream)\n",
    "        assert correct_byte_str == calculated_byte_str\n",
    "    print('Test passed!')\n",
    "    \n",
    "test_read_varstr()"
   ]
  },
  {
   "cell_type": "markdown",
   "metadata": {},
   "source": [
    "### Exercise: `read_version_payload` calls your `read_varstr`\n",
    "\n",
    "This one is easy. In `read_version_payload`, replace the `magic_read_varstr` I gave you with the `read_varstr` you just wrote."
   ]
  },
  {
   "cell_type": "code",
   "execution_count": null,
   "metadata": {},
   "outputs": [],
   "source": [
    "def read_version_payload(stream):\n",
    "    raise NotImplementedError()"
   ]
  },
  {
   "cell_type": "code",
   "execution_count": null,
   "metadata": {},
   "outputs": [],
   "source": [
    "def test_read_version_payload_varstr():\n",
    "    stream = BytesIO(VERSION_PAYLOAD)\n",
    "    payload = read_version_payload(stream)\n",
    "    assert payload['user_agent'] == b'/Satoshi:0.16.3/'\n",
    "    \n",
    "    print('Test passed!')\n",
    "    \n",
    "test_read_version_payload_varstr()"
   ]
  },
  {
   "cell_type": "markdown",
   "metadata": {},
   "source": [
    "### Progress\n",
    "\n",
    "- [x] `read_version_payload` v1: convert payload to dictionary with `bytes` values\n",
    "- [x] Interpret Integer fields\n",
    "    - [x] Convert bytes to integers\n",
    "    - [x] Interpret `version`\n",
    "    - [x] Interpret `timestamp`\n",
    "    - [x] Interpret `services`\n",
    "- [x] Interpret boolean `relay`\n",
    "- [x] Interpret variable-length `user_agent`\n",
    "    - [x] Implement `read_varint`\n",
    "    - [x] Implement `read_varstr`\n",
    "- [ ] Interpret sender and receiver `net_addr` values\n",
    "    - [ ] Interpret IP addresses\n",
    "    - [ ] Interpret big-endian port numbers\n",
    "- [ ] `read_version_payload` v2: convert payload to dictionary interpreted values where appropriate"
   ]
  },
  {
   "cell_type": "markdown",
   "metadata": {},
   "source": [
    "# \"Network Address\" Type\n",
    "\n",
    "[`net_addr`](https://en.bitcoin.it/wiki/Protocol_documentation#Network_address) is the most complicated new type we encounter this lesson, so we'll handle it last. Plus, it builds on the `timestamp` and `services` types we learned to read above.\n",
    "\n",
    "![image](../images/network-address.png)\n",
    "\n",
    "Network addresses require we interpret 4 new kinds of data:\n",
    "\n",
    "1. `time`: Unix timestamp. Already done.\n",
    "2. `services`: integer bitfield. Already done.\n",
    "3. `IP address`: complicated ...\n",
    "4. `port`: big-endian encoded `int`\n",
    "\n",
    "### IP Address\n",
    "\n",
    "IPv4 addresses are 4 bytes. We usually represent them with the decimal representation of each byte separated by dots (`.`):\n",
    "\n",
    "```\n",
    "172.16.254.1\n",
    "```\n",
    "\n",
    "Since there are only `256**4 = 4_294_967_296` possible addresses -- less than the global human population -- it was decided that a new format was needed: IPv6.\n",
    "\n",
    "IPv6 addresses are 16 bytes. They are represented as eight groups of four hexadecimal digits with the groups being separated by colons, for example `2001:0db8:0000:0042:0000:8a2e:0370:7334`, but methods to abbreviate this full notation exist. So 2 bytes exist between every colon ...\n",
    "\n",
    "Since the internet will eventually need to migrate to IPv6 addresses, Satoshi decided to make the `ip` field in the `net_addr` structure 16 bytes -- just like IPv6 addresses.\n",
    "\n",
    "But this begs a question: with all this extra space, how should we represent a 4-byte IPv4 address?\n",
    "\n",
    "As the network address table above describes, Satoshi employed an IPv4-mapped IPv4 address. This just means that he stuck a 12 byte prefix on the left side: `b'\\x00\\x00\\x00\\x00\\x00\\x00\\x00\\x00\\x00\\x00\\xff\\xff'`, the rightmost 4 bytes represent the IPv4 address."
   ]
  },
  {
   "cell_type": "markdown",
   "metadata": {},
   "source": [
    "### Exercise: Read an IPv4 address\n",
    "\n",
    "What IP address is encoded in the `ip_bytes` address below?"
   ]
  },
  {
   "cell_type": "code",
   "execution_count": null,
   "metadata": {},
   "outputs": [],
   "source": [
    "# Not unittest this time. \n",
    "# Play around with this in Jupyter and try to extract the IP address. \n",
    "# Maybe make a few more cells and break the process into a few steps. \n",
    "# Have fun with it!\n",
    "\n",
    "ipv4_bytes = b'\\x00\\x00\\x00\\x00\\x00\\x00\\x00\\x00\\x00\\x00\\xff\\xff\\n\\x00\\x00\\x01'\n",
    "ipv4_bytes"
   ]
  },
  {
   "cell_type": "markdown",
   "metadata": {},
   "source": [
    "[answer](./Answers.ipynb#Exercise:-Read-an-IPv4-address)"
   ]
  },
  {
   "cell_type": "markdown",
   "metadata": {},
   "source": [
    "### Exercise: Read an IPv6 address\n",
    "\n",
    "What IP address is encoded in the `ip_bytes` address below?"
   ]
  },
  {
   "cell_type": "code",
   "execution_count": null,
   "metadata": {},
   "outputs": [],
   "source": [
    "ipv6_bytes = b'\\xfe\\x80\\x00\\x00\\x00\\x00\\x00\\x00\\x02\\x02\\xb3\\xff\\xfe\\x1e\\x83)'\n",
    "ipv6_bytes"
   ]
  },
  {
   "cell_type": "markdown",
   "metadata": {},
   "source": [
    "[answer](./Answers.ipynb#Exercise:-Read-an-IPv6-Address)"
   ]
  },
  {
   "cell_type": "markdown",
   "metadata": {},
   "source": [
    "Luckily, we won't have to rely on our own code for such a low-level operation: [`socket.inet_ntop(address_family, packed_ip)](https://docs.python.org/3/library/socket.html#socket.inet_ntop) will do this work for us:"
   ]
  },
  {
   "cell_type": "code",
   "execution_count": null,
   "metadata": {},
   "outputs": [],
   "source": [
    "# socket.AF_INET is the IPv4 address family\n",
    "# Because second argument is a \"packed\" ip address, \n",
    "# we must lop off the prefix before calling\n",
    "socket.inet_ntop(socket.AF_INET, ipv4_bytes[-4:])"
   ]
  },
  {
   "cell_type": "code",
   "execution_count": null,
   "metadata": {},
   "outputs": [],
   "source": [
    "# socket.AF_INET6 is the IPv6 address family\n",
    "# Notice how it does some compacting of empty parts for us ...\n",
    "socket.inet_ntop(socket.AF_INET6, ipv6_bytes)"
   ]
  },
  {
   "cell_type": "markdown",
   "metadata": {},
   "source": [
    "### Exercise: `bytes_to_ip`\n",
    "\n",
    "Write a function that will take 16 bytes and convert to the correct IP addres string based on whether it is a IPv4 or IPv6."
   ]
  },
  {
   "cell_type": "code",
   "execution_count": null,
   "metadata": {},
   "outputs": [],
   "source": [
    "# this IPv4 prefix will be useful:\n",
    "IPV4_PREFIX = b\"\\x00\" * 10 + b\"\\xff\" * 2\n",
    "\n",
    "def bytes_to_ip(b):\n",
    "    raise NotImplementedError()"
   ]
  },
  {
   "cell_type": "code",
   "execution_count": null,
   "metadata": {},
   "outputs": [],
   "source": [
    "def test_bytes_to_ip():\n",
    "    assert bytes_to_ip(ipv4_bytes) == '10.0.0.1'\n",
    "    assert bytes_to_ip(ipv6_bytes) == 'fe80::202:b3ff:fe1e:8329'\n",
    "    print('Test passed!')\n",
    "    \n",
    "test_bytes_to_ip()"
   ]
  },
  {
   "cell_type": "markdown",
   "metadata": {},
   "source": [
    "### Exercise: `read_address`\n",
    "\n",
    "Since network addresses are sort of their own \"type\" -- and this code will be re-used when we write the crawler -- let's create a `read_address` which our `read_version_payload` function can call when it reaches the network address bytes.\n",
    "\n",
    "We give it a `has_timestamp` variable because the docs mention how the `timestamp` attribute is always present *except* in version messages. So the `has_timestamp` flag will be used to denote whether or not we're in such a context ...\n",
    "\n",
    "![image](../images/netaddr-timestamp.png)\n",
    "\n",
    "Fill in the `?`s with appropriate values:"
   ]
  },
  {
   "cell_type": "code",
   "execution_count": null,
   "metadata": {},
   "outputs": [],
   "source": [
    "def read_address(stream, has_timestamp):\n",
    "    r = {}\n",
    "    if has_timestamp:\n",
    "        r[\"timestamp\"] = ?\n",
    "    r[\"services\"] = ?\n",
    "    r[\"ip\"] = ?\n",
    "    r[\"port\"] = ?\n",
    "    return r"
   ]
  },
  {
   "cell_type": "code",
   "execution_count": null,
   "metadata": {},
   "outputs": [],
   "source": [
    "def test_read_address():\n",
    "    services = 7\n",
    "    services_bytes = services.to_bytes(8, 'little')\n",
    "    ipv4 = '10.0.10.0'\n",
    "    ipv4_bytes = IPV4_PREFIX + socket.inet_pton(socket.AF_INET, ipv4)\n",
    "    ipv6 = '2a02:1205:501e:d30:f57a:6958:7e47:2694'\n",
    "    ipv6_bytes = socket.inet_pton(socket.AF_INET6, ipv6)\n",
    "    port = 8333\n",
    "    port_bytes = port.to_bytes(2, 'big')\n",
    "    \n",
    "    # IPv4\n",
    "    stream = BytesIO(services_bytes + ipv4_bytes + port_bytes)\n",
    "    address = read_address(stream, has_timestamp=False)\n",
    "    assert address['services'] == services\n",
    "    assert address['ip'] == ipv4\n",
    "    assert address['port'] == port\n",
    "    \n",
    "    # IPv6\n",
    "    stream = BytesIO(services_bytes + ipv6_bytes + port_bytes)\n",
    "    address = read_address(stream, has_timestamp=False)\n",
    "    assert address['ip'] == ipv6\n",
    "    \n",
    "    print('Test passed!')\n",
    "\n",
    "test_read_address()"
   ]
  },
  {
   "cell_type": "markdown",
   "metadata": {},
   "source": [
    "- [x] `read_version_payload` v1: convert payload to dictionary with `bytes` values\n",
    "- [x] Interpret Integer fields\n",
    "    - [x] Convert bytes to integers\n",
    "    - [x] Interpret `version`\n",
    "    - [x] Interpret `timestamp`\n",
    "    - [x] Interpret `services`\n",
    "- [x] Interpret boolean `relay`\n",
    "- [x] Interpret variable-length `user_agent`\n",
    "    - [x] Implement `read_varint`\n",
    "    - [x] Implement `read_varstr`\n",
    "- [x] Interpret sender and receiver `net_addr` values\n",
    "    - [x] Interpret IP addresses\n",
    "    - [x] Interpret big-endian port numbers\n",
    "- [ ] `read_version_payload` v2: convert payload to dictionary interpreted values where appropriate"
   ]
  },
  {
   "cell_type": "markdown",
   "metadata": {},
   "source": [
    "# Putting it all together\n",
    "\n",
    "### Exercise: final `read_version_payload`\n",
    "\n",
    "Copy the last version of `read_version_payload` you had written, and add in calls to `read_address` where appropriate. This is the finished product!"
   ]
  },
  {
   "cell_type": "code",
   "execution_count": null,
   "metadata": {},
   "outputs": [],
   "source": [
    "def read_version_payload(stream):\n",
    "    raise NotImplementedError()\n",
    "\n",
    "version_payload = read_version_payload(BytesIO(VERSION_PAYLOAD))\n",
    "version_payload"
   ]
  },
  {
   "cell_type": "code",
   "execution_count": null,
   "metadata": {},
   "outputs": [],
   "source": [
    "def test_read_version_payload_final():\n",
    "    vp = version_payload = read_version_payload(BytesIO(VERSION_PAYLOAD))\n",
    "    assert vp['version'] == 70015\n",
    "    assert vp['services'] == 1037\n",
    "    assert vp['timestamp'] == 1550465074\n",
    "    assert vp['receiver_address'] == {'services': 0, 'ip': '70.113.80.71', 'port': 43206}\n",
    "    assert vp['sender_address'] =={'services': 1037, 'ip': '::', 'port': 0}\n",
    "    assert vp['nonce'] == 8298811190300702753\n",
    "    assert vp['user_agent'] == b'/Satoshi:0.16.3/'\n",
    "    assert vp['start_height'] == 563541\n",
    "    assert vp['relay'] == 1\n",
    "    print('Test Passed')\n",
    "\n",
    "test_read_version_payload_final()"
   ]
  },
  {
   "cell_type": "markdown",
   "metadata": {},
   "source": [
    "# That's all, folks!\n",
    "\n",
    "If you have any feedback about this lesson, take a moment and fill out [this 1 question Google form](https://goo.gl/forms/izKsoQkN5QSDGHF63). This will help me iterate and improve this course!"
   ]
  },
  {
   "cell_type": "markdown",
   "metadata": {},
   "source": [
    "# Homework\n",
    "\n",
    "* follow along with this article: https://coinlogic.wordpress.com/2014/03/09/the-bitcoin-protocol-4-network-messages-1-version/. It covers how to use Wireshark to observe the messages that `bitcoind` sends."
   ]
  }
 ],
 "metadata": {
  "kernelspec": {
   "display_name": "Python 3",
   "language": "python",
   "name": "python3"
  },
  "language_info": {
   "codemirror_mode": {
    "name": "ipython",
    "version": 3
   },
   "file_extension": ".py",
   "mimetype": "text/x-python",
   "name": "python",
   "nbconvert_exporter": "python",
   "pygments_lexer": "ipython3",
   "version": "3.7.2"
  }
 },
 "nbformat": 4,
 "nbformat_minor": 2
}
