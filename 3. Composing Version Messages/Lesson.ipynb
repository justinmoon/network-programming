{
 "cells": [
  {
   "cell_type": "code",
   "execution_count": null,
   "metadata": {},
   "outputs": [],
   "source": [
    "%load_ext autoreload\n",
    "%autoreload 2"
   ]
  },
  {
   "cell_type": "markdown",
   "metadata": {},
   "source": [
    "# Finishing the Handshake\n",
    "\n",
    "Take a peek at [where we left off last time](../2.%20Reading%20Version%20Messages/Lesson.ipynb#Putting-it-all-together).\n",
    "\n",
    "We were able to entice a response from our peer and then interpret it. However, three problems remain:\n",
    "1. Our initial `version` message payload is hardcoded. We should be able to construct it using any parameters we like.\n",
    "2. After receiving our peer's `version` response, we don't listen for their `verack` response as the [version handshake](https://en.bitcoin.it/wiki/Version_Handshake) says we should.\n",
    "3. We don't send our `verack` upon receipt of our peer's `verack`, the final step in the handshake.\n",
    "\n",
    "Once we fix all these problems our program will be able to join the Bitcoin peer-to-peer network just like a [Bitcoin Core](https://github.com/bitcoin/bitcoin) full node does.  We won't be able to participate nearly as fully or effectively as Bitcoin Core node, but it's a start!\n",
    "\n",
    "The last 2 problems are easy to fix. `verack` messages are easy to serialize and deserialize because they [have no payload](https://en.bitcoin.it/wiki/Protocol_documentation#verack). \n",
    "\n",
    "Problem #1 will be more involved. We've spent a lot of time learning to _deserialize_ Bitcoin network messages: to turn raw bytes into Python objects. Problem #1 demands we do the opposite: _serialize_ Bitcoin messages, turn Python objects into raw bytes that can be sent over the network to our peers, who may not even have Python installed!\n",
    "\n",
    "If you've ever done any web development I'm sure you've learned to serialize and deserialize JSON, which is the de facto data representation on the web. Same thing here, but we're usng bytes instead of JSON.\n",
    "\n",
    "Let's tackle these problems one-by-one."
   ]
  },
  {
   "cell_type": "markdown",
   "metadata": {},
   "source": [
    "# Problem #1: Constructing Version Messages\n",
    "\n",
    "We desire `serialize_version_payload` and `serialize_message` functions which could be used like this:\n",
    "\n",
    "```python\n",
    "version_payoad = serialize_version_payload(\n",
    "    version=7011,\n",
    "    user_agent=b'/buidl-army/',\n",
    ")\n",
    "msg = serialize_msg(command=b'verack', payload=version_payload)\n",
    "sock.send(msg)\n",
    "```\n",
    "\n",
    "These two functions would allow us to compose version messages to our exact desires. And in the future we will re-use the skills we develop writing these two functions to compose any other Bitcoin protocol messages.\n",
    "\n",
    "`serialize_version_payload` would do the exact opposite from the `read_version_payload` we wrote earlier. The `serialize_message` function would do the opposite of [`read_message`](http://localhost:8889/notebooks/2.%20Reading%20Version%20Messages/Lesson.ipynb#Housekeeping) function we wrote earlier. Now that we learned to do all these `bytes` -> Python data conversions, hopefully the inverse Python -> `bytes` data conversions will be a little easier!\n",
    "\n",
    "So which should we implement first? Let's do `serialize_version_payload` because these ideas are fresher in our minds."
   ]
  },
  {
   "cell_type": "markdown",
   "metadata": {},
   "source": [
    "# `serialize_version_payload`\n",
    "\n",
    "[This file](/edit/3.%20Composing%20Version%20Messages/exercises.py)  contains stubs of all the code we will write in this lesson. For every exercise you will modify this file and the unittests will import and test these functions.\n",
    "\n",
    "Contained in that file is a stub for `serialize_version_payload`. \n",
    "\n",
    "* It has default parameters for every field in a a version message. \n",
    "* We need the `if` statements for `timestamp` and `nonce` because the defaults for these values need to be computed when the function is actually run and not when the code is first executed -- `timestamp` should be current unix time when the function is called, `nonce` should be a different random 8-byte number every time the function is called.\n",
    "* Finally, we stick the correct number of zero bytes (`b'\\x00'`) for each field as a placeholder.\n",
    "\n",
    "As you can see this code runs but doesn't do anything useful yet:"
   ]
  },
  {
   "cell_type": "code",
   "execution_count": null,
   "metadata": {},
   "outputs": [],
   "source": [
    "from io import BytesIO\n",
    "from exercises import serialize_version_payload\n",
    "from lib import read_version_payload\n",
    "\n",
    "version_payload_bytes = serialize_version_payload()\n",
    "print('Serialized payload:')\n",
    "print(version_payload_bytes)\n",
    "\n",
    "version_payload_dict = read_version_payload(BytesIO(version_payload_bytes))\n",
    "print()\n",
    "print('Deserialized payload:')\n",
    "print(version_payload_dict)"
   ]
  },
  {
   "cell_type": "markdown",
   "metadata": {},
   "source": [
    "In this lesson we will go field-by-field through this function and replace the zero bytes with the `bytes` serialization of that field.\n",
    "\n",
    "Let's start with the integer fields because there so many of them and because they're simple."
   ]
  },
  {
   "cell_type": "markdown",
   "metadata": {},
   "source": [
    "# Integer Fields\n",
    "\n",
    "`b\\x01` is one way to encode the integer `1` as `bytes` -- in a single byte.\n",
    "\n",
    "But that's not the only way to encode the integer `1` as `bytes`.\n",
    "\n",
    "`b\\x01\\x00` is another way -- in 2 bytes with little-endian order. \n",
    "\n",
    "`b\\x00\\x00\\x01` is yet another way -- in 3 bytes with big-endian order.\n",
    "\n",
    "We can always pad the encoding with zero-bytes at higher orders-of-magnitude.\n",
    "\n",
    "This ability is essential because it allows for fields with fixed size, and fixed field sizes are one of the ways we make sense of the endless string of bytes we receive from our peers. \n",
    "\n",
    "While there are benefits to fixed field sizes, there are also dangers. We must allow for room for the fields to grow into the future. For example, timestamps increase over time. We need to make room for them to grow for the many centuries we hope Bitcoin is active.\n",
    "\n",
    "This is how you'd calculate the current unix time:"
   ]
  },
  {
   "cell_type": "code",
   "execution_count": null,
   "metadata": {},
   "outputs": [],
   "source": [
    "import time\n",
    "\n",
    "now = int(time.time())\n",
    "now"
   ]
  },
  {
   "cell_type": "markdown",
   "metadata": {},
   "source": [
    "Some `timestamp` fields in the bitcoin protocol are only 4 bytes. These require no padding:"
   ]
  },
  {
   "cell_type": "code",
   "execution_count": null,
   "metadata": {},
   "outputs": [],
   "source": [
    "now.to_bytes(4, 'little')"
   ]
  },
  {
   "cell_type": "markdown",
   "metadata": {},
   "source": [
    "But eventually these fields will start overflowing. Here I calculate the highest Unix timestamp which can be serialized in only 4 bytes -- `FF FF FF FF`. Then I show the date it corresponds to, which is the date these 4 byte Unix timestamp fields will overflow."
   ]
  },
  {
   "cell_type": "code",
   "execution_count": null,
   "metadata": {
    "scrolled": true
   },
   "outputs": [],
   "source": [
    "from datetime import datetime\n",
    "\n",
    "# The biggest 4-byte little endian number: 256**4\n",
    "n_bytes = b'\\xff' * 4\n",
    "n = int.from_bytes(n_bytes, 'little')\n",
    "print('The biggest 4 byte Unix timestamp is', n)\n",
    "\n",
    "overflow_date = datetime.fromtimestamp(n+1)\n",
    "days_from_now = (overflow_date - datetime.now()).days\n",
    "print(f'4 byte timestamp fields in the Bitcoin protocol will overflow '\n",
    "      f'at {overflow_date}, {days_from_now} days from now')\n"
   ]
  },
  {
   "cell_type": "markdown",
   "metadata": {},
   "source": [
    "This is a big problem and will most likely require a hard fork in the distant future. One of Satoshi's bigger screwups for sure!\n",
    "\n",
    "Other `timestamp` fields, however, are 8 bytes. This is much better. They currently have four bytes of padding and have lots of space to grow in the future:"
   ]
  },
  {
   "cell_type": "code",
   "execution_count": null,
   "metadata": {},
   "outputs": [],
   "source": [
    "print('Much zero-byte padding, so growing room: ')\n",
    "print(now.to_bytes(8, 'little'))"
   ]
  },
  {
   "cell_type": "markdown",
   "metadata": {},
   "source": [
    "In fact, this range goes so high that your computer probably can't even interpret the high end as a timestamp:"
   ]
  },
  {
   "cell_type": "code",
   "execution_count": null,
   "metadata": {},
   "outputs": [],
   "source": [
    "# The biggest 8-byte little endian number: 256**8\n",
    "n_bytes = b'\\xff' * 8\n",
    "n = int.from_bytes(n_bytes, 'little')\n",
    "print('The biggest 8 byte Unix timestamp is', n)"
   ]
  },
  {
   "cell_type": "code",
   "execution_count": null,
   "metadata": {},
   "outputs": [],
   "source": [
    "# On my machine this date is so far into the future that it can't \n",
    "overflow_date = datetime.fromtimestamp(n+1)\n",
    "print('8-byte timestamp fields in Bitcoin will overflow on', overflow_date)"
   ]
  },
  {
   "cell_type": "markdown",
   "metadata": {},
   "source": [
    "8 byte Unix timetamp fields won't overflow for *billions* of years!"
   ]
  },
  {
   "cell_type": "code",
   "execution_count": null,
   "metadata": {},
   "outputs": [],
   "source": [
    "secs_in_year = 365 * 24 * 60 * 60\n",
    "\n",
    "years = n // secs_in_year\n",
    "\n",
    "print(f'8-byte timestamp fields in Bitcoin will overflow in the year {1970 + years:,d}')"
   ]
  },
  {
   "cell_type": "markdown",
   "metadata": {},
   "source": [
    "Now that's what I call breathing room!\n",
    "\n",
    "Anyway, hopefully now you see why it's nice to have fixed-length fields with some room to grow into the future. \n",
    "\n",
    "### Exercise: `int_to_little_endian(int, size)` and `int_to_big_endian(int, size)` \n",
    "\n",
    "What does all this mean for our code?\n",
    "\n",
    "In order to deal with such fields, our `int_to_little_endian` function needs to take 2 arguments -- the integer we will encode and the number of bytes our serialization should occupy.\n",
    "\n",
    "Note: There is a [notebook containing the answers](Answers.ipynb) in case you get stuck\n",
    "\n",
    "Implement `int_to_little_endian` in the [`exercises.py`](/edit/3.%20Composing%20Version%20Messages/exercises.py). When you think you have it, save the file (\"control-s\" or \"File > save\") and hope back over here to run the test in the next cell."
   ]
  },
  {
   "cell_type": "code",
   "execution_count": null,
   "metadata": {},
   "outputs": [],
   "source": [
    "from exercises import int_to_little_endian\n",
    "\n",
    "def test_int_to_little_endian():\n",
    "    integer = 22\n",
    "    bytes = b'\\x16\\x00\\x00\\x00\\x00\\x00\\x00\\x00\\x00\\x00'\n",
    "    result = int_to_little_endian(integer, 10)\n",
    "    assert bytes == result, f'Correct answer: {bytes}. Your answer: {result}'\n",
    "    print(\"Test passed!\")\n",
    "\n",
    "test_int_to_little_endian()"
   ]
  },
  {
   "cell_type": "markdown",
   "metadata": {},
   "source": [
    "Now give big-endian serialization a try:"
   ]
  },
  {
   "cell_type": "code",
   "execution_count": null,
   "metadata": {},
   "outputs": [],
   "source": [
    "from exercises import int_to_big_endian\n",
    "\n",
    "def test_int_to_big_endian():\n",
    "    integer = 22\n",
    "    bytes = b'\\x00\\x00\\x00\\x00\\x00\\x00\\x00\\x00\\x00\\x16'\n",
    "    result = int_to_big_endian(integer, 10)\n",
    "    assert bytes == result, f'Correct answer: {bytes}. Your answer: {result}'\n",
    "    print(\"Test passed!\")\n",
    "\n",
    "test_int_to_big_endian()"
   ]
  },
  {
   "cell_type": "markdown",
   "metadata": {},
   "source": [
    "### Exercise: Update `serialize_version_payload` to serialize all integer fields integers using `int_to_little_endian` and `int_to_big_endian`\n",
    "\n",
    "`version`, `services`, `timestamp`, `nonce`, and `start_height` are the fields we're interested in here.\n",
    "\n",
    "Open the [`exercises.py`](/edit/3.%20Composing%20Version%20Messages/exercises.py), edit and save the code in there to get this test passing."
   ]
  },
  {
   "cell_type": "code",
   "execution_count": null,
   "metadata": {
    "scrolled": true
   },
   "outputs": [],
   "source": [
    "from io import BytesIO\n",
    "from lib import read_version_payload\n",
    "\n",
    "def test_serialize_version_payload_integers():\n",
    "    now = int(time.time()) - 10\n",
    "    version_payload_dict = serialize_version_payload(\n",
    "        services=3, nonce=4, timestamp=now, start_height=50)\n",
    "    version_payload = read_version_payload(BytesIO(version_payload_dict))    \n",
    "    assert version_payload['version'] == 70015\n",
    "    assert version_payload['services'] == 3\n",
    "    assert version_payload['timestamp'] == now\n",
    "    assert version_payload['nonce'] == 4\n",
    "    assert version_payload['start_height'] == 50\n",
    "    print('Test passed!')\n",
    "    \n",
    "test_serialize_version_payload_integers()"
   ]
  },
  {
   "cell_type": "markdown",
   "metadata": {},
   "source": [
    "## Services\n",
    "\n",
    "It's all well and good that we can serialize integers. But we still don't really know how to produce the integers themselves in one case: `services`\n",
    "\n",
    "Let's say I want to set my services bitfield to only offer support for `NODE_NETWORK` and `NODE_BLOOM`. It would currently require some tricky calculations by hand. Let's write a function that will take care of this for us:\n",
    "\n",
    "### Exercise: `services_dict_to_int`\n",
    "\n",
    "Here's how I would do this. I'd make a dictionary mapping `services_dict` keys to the the value of the corresponding bits:\n",
    "\n",
    "```python\n",
    "    key_to_multiplier = {\n",
    "        'NODE_NETWORK': 2**0,\n",
    "        'NODE_GETUTXO': 2**1,\n",
    "        'NODE_BLOOM': 2**2,\n",
    "        'NODE_WITNESS': 2**3,\n",
    "        'NODE_NETWORK_LIMITED': 2**10,\n",
    "    }\n",
    "```\n",
    "\n",
    "Then I'd loop over the keys and values in `services_dict` (`for key, value in services_dict.items()`) and sum up the `services` integers with the assistance of `key_to_multiplier`."
   ]
  },
  {
   "cell_type": "code",
   "execution_count": null,
   "metadata": {},
   "outputs": [],
   "source": [
    "from exercises import services_dict_to_int\n",
    "\n",
    "def test_services_dict_to_int():\n",
    "    services_dict = {\n",
    "        'NODE_NETWORK': True,\n",
    "        'NODE_GETUTXO': False,\n",
    "        'NODE_BLOOM': True,\n",
    "        'NODE_WITNESS': False,\n",
    "        'NODE_CASH': True,\n",
    "        'NODE_NETWORK_LIMITED': True,\n",
    "    }\n",
    "    answer = 1 + 4 + 1024\n",
    "    result = services_dict_to_int(services_dict)\n",
    "    assert answer == result,\\\n",
    "        f'services_dict_to_int({repr(services_dict)}) should equal {answer}, was {result}'\n",
    "    print('Test passed!')\n",
    "    \n",
    "test_services_dict_to_int()"
   ]
  },
  {
   "cell_type": "markdown",
   "metadata": {},
   "source": [
    "### Exercise: Update `serialize_version_payload` to take `services_dict` argument\n",
    "\n",
    "Replace the `services` argument with a `services_dict` argument.\n",
    "\n",
    "Then use `services_dict_to_int` within the body of the function to convert `services_dict` into an integer. BTW give `services_dict` a default value of the empty dictionary `{}`"
   ]
  },
  {
   "cell_type": "code",
   "execution_count": null,
   "metadata": {},
   "outputs": [],
   "source": [
    "from exercises import serialize_version_payload\n",
    "\n",
    "def test_serialize_version_payload_services_dict():\n",
    "    now = int(time.time()) - 10\n",
    "    version_payload = serialize_version_payload(\n",
    "        services_dict={'NODE_NETWORK': True, 'NODE_BLOOM': True}, \n",
    "        nonce=4, timestamp=now, start_height=50)\n",
    "    version_payload = read_version_payload(BytesIO(version_payload))\n",
    "    assert version_payload['version'] == 70015\n",
    "    assert version_payload['services'] == 5\n",
    "    assert version_payload['timestamp'] == now\n",
    "    assert version_payload['nonce'] == 4\n",
    "    assert version_payload['start_height'] == 50\n",
    "    print('Test passed!')\n",
    "    \n",
    "test_serialize_version_payload_services_dict()"
   ]
  },
  {
   "cell_type": "markdown",
   "metadata": {},
   "source": [
    "# Boolen Fields\n",
    "\n",
    "### Exercise: `bool_to_bytes(bool)`\n",
    "\n",
    "Interpret a boolean as bytes"
   ]
  },
  {
   "cell_type": "code",
   "execution_count": null,
   "metadata": {},
   "outputs": [],
   "source": [
    "from exercises import bool_to_bytes\n",
    "\n",
    "def test_bytes_to_bool():\n",
    "    assert bool_to_bytes(True) == b'\\x01', \\\n",
    "        f'bool_to_bytes(False) should equal b\"\\\\x01\", was {bool_to_bytes(True)}'\n",
    "    assert bool_to_bytes(False) == b'\\x00',\\\n",
    "        f'bool_to_bytes(False) should equal b\"\\\\x00\", was {bool_to_bytes(False)}'\n",
    "    print('Test passed!')\n",
    "    \n",
    "test_bytes_to_bool()"
   ]
  },
  {
   "cell_type": "markdown",
   "metadata": {},
   "source": [
    "### Exercise: Update `serialize_version_payload` to call `bool_to_bytes` where appropriate"
   ]
  },
  {
   "cell_type": "code",
   "execution_count": null,
   "metadata": {
    "scrolled": true
   },
   "outputs": [],
   "source": [
    "from exercises import serialize_version_payload\n",
    "\n",
    "def test_serialize_version_payload_booleans():\n",
    "    now = int(time.time()) - 10\n",
    "    version_payload = serialize_version_payload(\n",
    "        services_dict={'NODE_NETWORK': True, 'NODE_BLOOM': True}, \n",
    "        nonce=4, timestamp=now, start_height=50, user_agent=b'/buidl-army/')\n",
    "    version_payload = read_version_payload(BytesIO(version_payload))\n",
    "    assert version_payload['version'] == 70015\n",
    "    assert version_payload['services'] == 5\n",
    "    assert version_payload['timestamp'] == now\n",
    "    assert version_payload['nonce'] == 4\n",
    "    assert version_payload['start_height'] == 50\n",
    "    assert version_payload['relay'] is True\n",
    "    print('Test passed!')\n",
    "    \n",
    "test_serialize_version_payload_booleans()"
   ]
  },
  {
   "cell_type": "markdown",
   "metadata": {},
   "source": [
    "# Variable Length Fields\n",
    "\n",
    "Next comes the `user_agent` field of type `varstr`.\n",
    "\n",
    "Remember how `varstr` is itself composed of 2 fields, a `varint` followed n raw bytes when n is the value of the `varint` field?\n",
    "\n",
    "![image](../images/varstr.png)\n",
    "\n",
    "Therefore `serialize_varstr` will need to call a `serialize_varint` function. So let's implement `serizlize_varint` first.\n",
    "\n",
    "### Exercise: `serialize_varint`\n",
    "\n",
    "Recall the algorithm for varint serialization of some number `n`:\n",
    "\n",
    "* If `n` is less than 253, return `n` as a single byte\n",
    "* Else if `n` can fit in 2 bytes (less than 256**2) return `b'\\xfd'`, the marker for a 2 byte varint, followed by `n` serialized in 2 little-endian bytes. \n",
    "* Else if `n` can fit in 4 bytes (less than 256**4) return `b'\\xfe'`, the marker for a 4 byte varint, followed by `n` serialized in 4 little-endian bytes. \n",
    "* Else if `n` can fit in 8 bytes (less than 256**8) return `b'\\xff'`, the marker for an 8 byte varint, followed by `n` serialized in 8 little-endian bytes. \n",
    "\n",
    "Try to implement this. \n",
    "\n",
    "If you want to play around with a finished version of the function to get a better sense for how it works you can make a new cell and import this one: `from lib import serialize_varint`"
   ]
  },
  {
   "cell_type": "code",
   "execution_count": null,
   "metadata": {},
   "outputs": [],
   "source": [
    "from exercises import serialize_varint\n",
    "\n",
    "def test_serialize_varint():\n",
    "    from lib import serialize_varint as _serialize_varint \n",
    "    numbers = [10+256**i for i in [0, 1, 3, 7]]\n",
    "    for i in numbers:\n",
    "        expected = _serialize_varint(i)\n",
    "        result = serialize_varint(i)\n",
    "        assert expected == result,\\\n",
    "            f'serialize_varint({i}) should return {expected}, returned {result}'\n",
    "\n",
    "    print('Test passed!')\n",
    "\n",
    "test_serialize_varint()"
   ]
  },
  {
   "cell_type": "markdown",
   "metadata": {},
   "source": [
    "### Exercise: `serialize_varstr(bytes)`\n",
    "\n",
    "There are two steps here: \n",
    "* Calculate the `varint` serialization of the length of the bytes\n",
    "* Return this varint concatenated with the bytes themselves"
   ]
  },
  {
   "cell_type": "code",
   "execution_count": null,
   "metadata": {},
   "outputs": [],
   "source": [
    "from exercises import serialize_varstr\n",
    "\n",
    "def test_serialize_varstr():\n",
    "    from lib import serialize_varstr as _serialize_varstr \n",
    "    bytestrings = [\n",
    "        b\"hodl\",\n",
    "        b\"A purely peer-to-peer version of electronic cash would allow online payments to be sent directly from one party to another without going through a financial institution. Digital signatures provide part of the solution, but the main benefits are lost if a trusted third party is still required to prevent double-spending. We propose a solution to the double-spending problem using a peer-to-peer network.  The network timestamps transactions by hashing them into an ongoing chain of hash-based proof-of-work, forming a record that cannot be changed without redoing the proof-of-work. The longest chain not only serves as proof of the sequence of events witnessed, but proof that it came from the largest pool of CPU power. As long as a majority of CPU power is controlled by nodes that are not cooperating to attack the network, they'll generate the longest chain and outpace attackers. The network itself requires minimal structure. Messages are broadcast on a best effort basis, and nodes can leave and rejoin the network at will, accepting the longest proof-of-work chain as proof of what happened while they were gone.\",\n",
    "    ]\n",
    "    \n",
    "    for b in bytestrings:\n",
    "        answer = _serialize_varstr(b)\n",
    "        result = serialize_varstr(b)\n",
    "        assert result == answer,\\\n",
    "            f'serialize_varstr({b}) should be {answer}, was {result}'\n",
    "    \n",
    "    print('Test passed!')\n",
    "    \n",
    "test_serialize_varstr()"
   ]
  },
  {
   "cell_type": "markdown",
   "metadata": {},
   "source": [
    "### Exercise: Update `serialize_version_payload` to serialize the `user_agent` as a `varstr`"
   ]
  },
  {
   "cell_type": "code",
   "execution_count": null,
   "metadata": {
    "scrolled": true
   },
   "outputs": [],
   "source": [
    "from exercises import serialize_version_payload\n",
    "\n",
    "def test_serialize_version_payload_varstrs():\n",
    "    now = int(time.time()) - 10\n",
    "    version_payload = serialize_version_payload(\n",
    "        services_dict={'NODE_NETWORK': True, 'NODE_BLOOM': True}, \n",
    "        nonce=4, timestamp=now, start_height=50, user_agent=b'/buidl-army/')\n",
    "    version_payload = read_version_payload(BytesIO(version_payload))\n",
    "    assert version_payload['version'] == 70015\n",
    "    assert version_payload['services'] == 5\n",
    "    assert version_payload['timestamp'] == now\n",
    "    assert version_payload['nonce'] == 4\n",
    "    assert version_payload['start_height'] == 50\n",
    "    assert version_payload['user_agent'] == b'/buidl-army/'\n",
    "    print('Test passed!')\n",
    "    \n",
    "test_serialize_version_payload_varstrs()"
   ]
  },
  {
   "cell_type": "markdown",
   "metadata": {},
   "source": [
    "# \"Network Address\" Type\n",
    "\n",
    "![image](../images/network-address.png)\n",
    "\n",
    "Recall that network addresses are composed of 4 fields: `timestamp`, `services`, `ip` and a `port`. The latter three are always present, but the `timestamp` is present in all circumstances except version messages -- so our serialization code will need a flag for this just like our deserialization code had.\n",
    "\n",
    "Here's how we deserialized network messages in the last lesson:"
   ]
  },
  {
   "cell_type": "code",
   "execution_count": null,
   "metadata": {},
   "outputs": [],
   "source": [
    "def read_address(stream, timestamp):\n",
    "    r = {}\n",
    "    if timestamp:\n",
    "        r[\"timestamp\"] = little_endian_to_int(stream.read(4))\n",
    "    r[\"services\"] = little_endian_to_int(stream.read(8))\n",
    "    r[\"ip\"] = bytes_to_ip(stream.read(16))\n",
    "    r[\"port\"] = big_endian_to_int(stream.read(2))\n",
    "    return r"
   ]
  },
  {
   "cell_type": "markdown",
   "metadata": {},
   "source": [
    "This takes a byte stream and a `has_timestamp` flag and returns a dictionary containing all the informtaion about this address. Once again, we need to do the opposite.\n",
    "\n",
    "Honestly, this lesson is running a little long and this code won't be terribly useful to us. I think you get the idea. I'm just going to give you this one:"
   ]
  },
  {
   "cell_type": "code",
   "execution_count": null,
   "metadata": {},
   "outputs": [],
   "source": [
    "import socket\n",
    "\n",
    "IPV4_PREFIX = b\"\\x00\" * 10 + b\"\\x00\" * 2\n",
    "\n",
    "def ip_to_bytes(ip):\n",
    "    if \":\" in ip:\n",
    "        return socket.inet_pton(socket.AF_INET6, ip)\n",
    "    else:\n",
    "        return IPV4_PREFIX + socket.inet_pton(socket.AF_INET, ip)\n",
    "\n",
    "def serialize_address(address, has_timestamp):\n",
    "    result = b\"\"\n",
    "    if has_timestamp:\n",
    "        result += int_to_little_endian(address['timestamp'], 8)\n",
    "    result += int_to_little_endian(address['services'], 8)\n",
    "    result += ip_to_bytes(address['ip'])\n",
    "    result += int_to_big_endian(address['port'], 2)\n",
    "    return result"
   ]
  },
  {
   "cell_type": "markdown",
   "metadata": {},
   "source": [
    "### Exercise: Update `serialize_version_payload` to serialize network addresses\n",
    "\n",
    "Remember, in the context of the version message the `has_timestamp` flag should be set to false."
   ]
  },
  {
   "cell_type": "code",
   "execution_count": null,
   "metadata": {
    "scrolled": false
   },
   "outputs": [],
   "source": [
    "from exercises import serialize_version_payload, dummy_address\n",
    "\n",
    "def test_serialize_version_payload_network_addresses():\n",
    "    now = int(time.time()) - 10\n",
    "    version_payload = serialize_version_payload(\n",
    "        services_dict={'NODE_NETWORK': True, 'NODE_BLOOM': True}, \n",
    "        nonce=4, timestamp=now, start_height=50, user_agent=b'/buidl-army/')\n",
    "    version_payload = read_version_payload(BytesIO(version_payload))\n",
    "    assert version_payload['version'] == 70015\n",
    "    assert version_payload['services'] == 5\n",
    "    assert version_payload['timestamp'] == now\n",
    "    assert version_payload['receiver_address'] == dummy_address\n",
    "    assert version_payload['sender_address'] == dummy_address\n",
    "    assert version_payload['nonce'] == 4\n",
    "    assert version_payload['start_height'] == 50\n",
    "    assert version_payload['user_agent'] == b'/buidl-army/'\n",
    "\n",
    "    print('Test passed!')\n",
    "    \n",
    "test_serialize_version_payload_network_addresses()"
   ]
  },
  {
   "cell_type": "markdown",
   "metadata": {},
   "source": [
    "# Serializing Messages\n",
    "\n",
    "We can completely serialize version message payloads. Yay!\n",
    "\n",
    "Now we just need to serialize the outer message structure itself. This will just be reversing the `read_message` function we created in the first lesson:"
   ]
  },
  {
   "cell_type": "code",
   "execution_count": null,
   "metadata": {},
   "outputs": [],
   "source": [
    "# To refresh your memory ...\n",
    "\n",
    "def read_message(stream):\n",
    "    msg = {}\n",
    "    magic = stream.read(4)\n",
    "    if magic != NETWORK_MAGIC:\n",
    "        raise Exception(f'Magic is wrong: {magic}')\n",
    "    msg['command'] = stream.read(12).strip(b'\\x00')\n",
    "    payload_length = int.from_bytes(stream.read(4), 'little')\n",
    "    checksum = stream.read(4)\n",
    "    msg['payload'] = stream.read(payload_length)\n",
    "    calculated_checksum = double_sha256(msg['payload'])[:4]\n",
    "    if calculated_checksum != checksum:\n",
    "        raise Exception('Checksum does not match')\n",
    "    return msg"
   ]
  },
  {
   "cell_type": "markdown",
   "metadata": {},
   "source": [
    "Here's an outline of how an inverse `serialize_message` function might work:"
   ]
  },
  {
   "cell_type": "code",
   "execution_count": null,
   "metadata": {},
   "outputs": [],
   "source": [
    "def serialize_message(command, payload):\n",
    "    result = b'magic bytes'\n",
    "    result += b'command bytes'\n",
    "    result += b'payload length bytes'\n",
    "    result += b'checksum bytes'\n",
    "    result += b'payload bytes'\n",
    "    return result"
   ]
  },
  {
   "cell_type": "markdown",
   "metadata": {},
   "source": [
    "### Exercise: Serialize Network Magic\n",
    "\n",
    "Implement `serialize_message` in [exercises.py](/edit/3.%20Composing%20Version%20Messages/exercises.py#)\n",
    "\n",
    "Try not to look up the magic bytes in a previous lesson's code. Pretend that doesn't exist. Instead go to the wiki and figure out how to interpret what the wiki says into python."
   ]
  },
  {
   "cell_type": "code",
   "execution_count": null,
   "metadata": {},
   "outputs": [],
   "source": [
    "def test_serialize_message(fields):\n",
    "    from exercises import serialize_message\n",
    "    m = serialize_message(command=b\"version\", payload=b\"foo\")\n",
    "    if 'magic' in fields:\n",
    "        assert m[0:4] == bytes([249, 190, 180, 217])\n",
    "    if 'command' in fields:\n",
    "        assert m[4:16] == b'version' + (5 * b'\\x00')\n",
    "    if 'length' in fields:\n",
    "        assert m[16:20] == b'\\x03\\x00\\x00\\x00'\n",
    "    if 'checksum' in fields:\n",
    "        assert m[20:24] == b'\\xc7\\xad\\xe8\\x8f'\n",
    "    if 'payload' in fields:\n",
    "        assert m[24:] == b'foo'\n",
    "    print(\"Test passed!\")"
   ]
  },
  {
   "cell_type": "code",
   "execution_count": null,
   "metadata": {},
   "outputs": [],
   "source": [
    "test_serialize_message(['magic'])"
   ]
  },
  {
   "cell_type": "markdown",
   "metadata": {},
   "source": [
    "### Exercise: Serialize Command\n",
    "\n",
    "Next we serialize the `command` field. Remember that it needs to be a fixed length (look up the exact length in the wiki) and you should right-pad with zero bytes (`b\\x00`) until that length is reached."
   ]
  },
  {
   "cell_type": "code",
   "execution_count": null,
   "metadata": {},
   "outputs": [],
   "source": [
    "test_serialize_message(['magic', 'command'])"
   ]
  },
  {
   "cell_type": "markdown",
   "metadata": {},
   "source": [
    "### Exercise: Serialize Payload Length\n",
    "\n",
    "Let's assume that the `payload` argument is the actual bytes of the payload. You need to get the length of these bytes and encodes that as the correct number of bytes, with the correct byte order."
   ]
  },
  {
   "cell_type": "code",
   "execution_count": null,
   "metadata": {},
   "outputs": [],
   "source": [
    "test_serialize_message(['magic', 'command', 'length'])"
   ]
  },
  {
   "cell_type": "markdown",
   "metadata": {},
   "source": [
    "### Exercise: Serialize Checksum\n",
    "\n",
    "I suggest you get the test to pass using the `compute_checksum` function I imported for you in [exercises.py](/edit/3.%20Composing%20Version%20Messages/exercises.py#).\n",
    "\n",
    "Once you get that working, try to implement the `compute_checksum` yourself. It's good practice to remember how it works!"
   ]
  },
  {
   "cell_type": "code",
   "execution_count": null,
   "metadata": {},
   "outputs": [],
   "source": [
    "test_serialize_message(['magic', 'command', 'length', 'checksum'])"
   ]
  },
  {
   "cell_type": "markdown",
   "metadata": {},
   "source": [
    "### Exercise: Serialize Payload\n",
    "\n",
    "Lastly, add the payload itself"
   ]
  },
  {
   "cell_type": "code",
   "execution_count": null,
   "metadata": {},
   "outputs": [],
   "source": [
    "test_serialize_message(['magic', 'command', 'length', 'checksum', 'payload'])"
   ]
  },
  {
   "cell_type": "markdown",
   "metadata": {},
   "source": [
    "# Verack\n",
    "\n",
    "In order to complete the [version handshake](https://en.bitcoin.it/wiki/Version_Handshake), we also need to read and write verack messages.\n",
    "\n",
    "This is going to be easy, though -- verack messages don't contain any payload.\n",
    "\n",
    "To read a verack message it suffices to just call `read_message(stream)` which will return `{\"command\": b\"verack\": \"payload\": b\"\"}`. There's nothing left to do at this point. \n",
    "\n",
    "To serialize a verack message, we'd simply need to call `serialize_message(command=b\"verack\")` -- this would produce raw bytes that could be send over a socket. We don't pass in anything for `payload_dict` because veracks don't have a payload and the `payload_dict` parameter in `serialize_message` defaults to the empty dictionary.\n",
    "\n",
    "With this out of the way, it's time for the main event ..."
   ]
  },
  {
   "cell_type": "markdown",
   "metadata": {},
   "source": [
    "### Exercise: Version Handshake\n",
    "\n",
    "In the cell below implememt `handshake`, a function which opens connections with Bitcoin full nodes."
   ]
  },
  {
   "cell_type": "code",
   "execution_count": null,
   "metadata": {},
   "outputs": [],
   "source": [
    "from exercises import *\n",
    "from lib import read_message\n",
    "from pprint import pprint\n",
    "\n",
    "def handshake(address):\n",
    "    sock = socket.create_connection(address, timeout=1)\n",
    "    stream = sock.makefile(\"rb\")\n",
    "\n",
    "    # Step 1: our version message\n",
    "    sock.sendall(\"OUR VERSION MESSAGE\")\n",
    "    print(\"Sent version\")\n",
    "\n",
    "    # Step 2: their version message\n",
    "    peer_version = \"READ THEIR VERSION MESSAGE HERE\"\n",
    "    print(\"Version: \")\n",
    "    pprint(peer_version)\n",
    "\n",
    "    # Step 3: their version message\n",
    "    peer_verack = \"READ THEIR VERACK MESSAGE HERE\"\n",
    "    print(\"Verack: \", peer_verack)\n",
    "\n",
    "    # Step 4: our verack\n",
    "    sock.sendall(\"OUR VERACK HERE\")\n",
    "    print(\"Sent verack\")\n",
    "\n",
    "    return sock, stream"
   ]
  },
  {
   "cell_type": "code",
   "execution_count": null,
   "metadata": {},
   "outputs": [],
   "source": [
    "ADDRESS = (\"46.19.137.74\", 8333)\n",
    "\n",
    "sock = handshake(ADDRESS)"
   ]
  },
  {
   "cell_type": "markdown",
   "metadata": {},
   "source": [
    "There's no unittest accompanied here. You'll know it's working if it prints something like: \n",
    "\n",
    "```\n",
    "Sent version\n",
    "Version: \n",
    "{'nonce': 4067395353630939545,\n",
    " 'receiver_address': {'ip': '::ffff:70.113.80.77',\n",
    "                      'port': 53996,\n",
    "                      'services': 0},\n",
    " 'relay': 1,\n",
    " 'sender_address': {'ip': '0.0.0.0', 'port': 0, 'services': 1037},\n",
    " 'services': 1037,\n",
    " 'start_height': 565000,\n",
    " 'timestamp': 1551338287,\n",
    " 'user_agent': b'/Satoshi:0.17.1(LearnMeABitcoin)/',\n",
    " 'version': 70015}\n",
    "Verack:  {'command': b'verack', 'payload': b''}\n",
    "Sent verack\n",
    "```\n",
    "\n",
    "Another, even more fun way to test it is to write a function that listens on the stream returned by `handshake` and prints out every message received:"
   ]
  },
  {
   "cell_type": "code",
   "execution_count": null,
   "metadata": {},
   "outputs": [],
   "source": [
    "def listen(address):\n",
    "    sock, stream = handshake(address)\n",
    "    while True:\n",
    "        message = read_message(stream)\n",
    "        print(f'Received message \"{message[\"command\"]}\"')"
   ]
  },
  {
   "cell_type": "code",
   "execution_count": null,
   "metadata": {
    "scrolled": false
   },
   "outputs": [],
   "source": [
    "listen(ADDRESS)"
   ]
  },
  {
   "cell_type": "markdown",
   "metadata": {},
   "source": [
    "Hopefully this exercise gives you a bit of a sense of what a full node does.\n",
    "\n",
    "It starts by establishing connections to a few peers. It sends messages over these sockets to request data it is interested in, and has listeners like the one above which read messages one-by-one and route them to handler functions that know how to deal with messages of each type.\n",
    "\n",
    "In the next lesson we'll extend this \"listener\" idea into a crawler. Whenever we connect to a new node we will request they send a list of their peers. We will visit each of those peers in turn!\n",
    "\n",
    "As homework, see if you can figure out how to read the payload of some of the messages observed by the `handler`. The `addr` messages should be easy -- they just a list of network addresses. `inv` messages are far juicier! We'll deal with these more a little later on ...\n",
    "\n",
    "If you would like to leave some feedback please drop it in [this Google form](https://goo.gl/forms/Fj3aDeTx4SXibFFC2)!"
   ]
  },
  {
   "cell_type": "code",
   "execution_count": null,
   "metadata": {},
   "outputs": [],
   "source": []
  }
 ],
 "metadata": {
  "kernelspec": {
   "display_name": "Python 3",
   "language": "python",
   "name": "python3"
  },
  "language_info": {
   "codemirror_mode": {
    "name": "ipython",
    "version": 3
   },
   "file_extension": ".py",
   "mimetype": "text/x-python",
   "name": "python",
   "nbconvert_exporter": "python",
   "pygments_lexer": "ipython3",
   "version": "3.7.2"
  }
 },
 "nbformat": 4,
 "nbformat_minor": 2
}
